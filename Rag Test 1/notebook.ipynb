{
 "cells": [
  {
   "cell_type": "markdown",
   "metadata": {},
   "source": [
    "This is a small and quick project for understanding the basics of RAGing using local running LLMs(more specifically Llama in this case) with Ollama and langchain."
   ]
  },
  {
   "cell_type": "code",
   "execution_count": 1,
   "metadata": {},
   "outputs": [],
   "source": [
    "import os\n",
    "from dotenv import load_dotenv\n",
    "\n",
    "load_dotenv()\n",
    "\n",
    "OPENAI_API_KEY = os.getenv(\"OPEN_API_KEY\")\n",
    "\n",
    "#MODEL = \"gpt-3.5-turbo\"\n",
    "# MODEL = \"mixtral:8x7b\"\n",
    "MODEL = \"llama3.2:1b\""
   ]
  },
  {
   "cell_type": "code",
   "execution_count": 2,
   "metadata": {},
   "outputs": [
    {
     "data": {
      "text/plain": [
       "'A man walked into a library and asked the librarian, \"Do you have any books on Pavlov\\'s dogs and Schrödinger\\'s cat?\" The librarian replied, \"It rings a bell, but I\\'m not sure if it\\'s here or not.\"'"
      ]
     },
     "execution_count": 2,
     "metadata": {},
     "output_type": "execute_result"
    }
   ],
   "source": [
    "#from langchain_openai.chat_models import ChatOpenAI\n",
    "#from langchain_openai.embeddings import OpenAIEmbeddings\n",
    "from langchain_ollama import OllamaLLM\n",
    "from langchain_ollama import OllamaEmbeddings\n",
    "\n",
    "\n",
    "#model = ChatOpenAI(api_key=OPENAI_API_KEY, model=MODEL)\n",
    "#embeddings = OpenAIEmbeddings()\n",
    "model = OllamaLLM(model=MODEL)\n",
    "embeddings = OllamaEmbeddings(model = MODEL)\n",
    "\n",
    "model.invoke(\"tell me a joke\")"
   ]
  },
  {
   "cell_type": "code",
   "execution_count": 3,
   "metadata": {},
   "outputs": [
    {
     "data": {
      "text/plain": [
       "'A man walked into a library and asked the librarian, \"Do you have any books on Pavlov\\'s dogs and Schrödinger\\'s cat?\" The librarian replied, \"It rings a bell, but I\\'m not sure if it\\'s here or not.\"'"
      ]
     },
     "execution_count": 3,
     "metadata": {},
     "output_type": "execute_result"
    }
   ],
   "source": [
    "from langchain_core.output_parsers import StrOutputParser\n",
    "\n",
    "parser = StrOutputParser()\n",
    "\n",
    "chain = model | parser\n",
    "chain.invoke(\"Tell me a joke\")"
   ]
  },
  {
   "cell_type": "code",
   "execution_count": 4,
   "metadata": {},
   "outputs": [
    {
     "data": {
      "text/plain": [
       "[Document(metadata={'source': 'mlschool.pdf', 'page': 0}, page_content='Building Machine Learning Systems That Don\\'t\\nSuck\\nA live, interactive program that\\'ll help you build production-readymachine\\nlearning systems from the ground up.\\nNext cohort:\\xa0November4 - 21, 2024\\nCheck the schedulefor more details about upcoming cohorts.\\nI want to join!Sign in\\nLearn how to design, build, deploy, and scale machine learning\\nsystems to solve real-world problems.\\nI\\'ll lose my mind if I see another book or course teaching people the same basic\\nideas for the hundredth time. Most people are stuck in beginner mode, and finding\\nhelp to solve real-world problems is hard.\\nI want to change that.\\nI started writing software 30 years ago. I\\'ve written pipelines and trained models\\nfor some of the largest companies in the world. I want to show you how to do the\\nsame.\\nThis is the class I wish I had taken when I started.\"This is the best machine learning course I\\'ve done.\\nWorth every cent.\"\\n— Jose Reyes, AI/ML at Cevo Australia'),\n",
       " Document(metadata={'source': 'mlschool.pdf', 'page': 1}, page_content=\"This program will help you unlearn what you think machine learning is. It's a\\npractical, hands-on class where you'll learn from years of experience and real-\\nworld examples.\\nWhen you join, you get lifetime access to the following:\\n18 hours of live, interactive sessions. We'll use this time to discuss the first\\nprinciples behind building machine learning systems.\\n10 hours of step-by-step coding instructions. These practical sessions will\\nshow you how to build an end-to-end system from scratch.\\nA final project where you'll build a complete solution and receive direct\\nfeedback on your work.\\n100 coding assignments and practice questions.\\nThe entire source code of a working production system. It's yours. You can\\nchange and use it as you see fit.\\nA private community where you'll collaborate with thousands of people from\\ndifferent backgrounds.\\nDirect access to your instructor.\\nLifetime access to every past and future cohort.\\nProgram certificate upon completion.\\nAnd the best part is that you only pay once to join. There are no monthly fees. No\\nannual fees. No hidden costs. You pay once to join and benefit forever until the end\\nof time.\\nThe program won't be easy. It'll take time and effort. But if you want to use\\nmachine learning to solve real-world problems,this is the class you don't want to\\nmiss.\\nWho Is This Program For?\\nThis is a practical, hands-on program for technical professionals\\nwho are ready to put in the work.\"),\n",
       " Document(metadata={'source': 'mlschool.pdf', 'page': 2}, page_content='This program is for software engineers,data scientists,data analysts,machine\\nlearning engineers,technical managers, and anyone anyone who wants to use\\nmachine learning to solve real-world problems.\\nHere are the criteria to succeed in the program:\\nYou have experience writing code. We\\'ll use Python throughout the class, but\\nyou won\\'t have any problems if you know any other language.\\nYou are familiar with basic machine learning terminology. This is not an\\nintroductory class. We\\'ll move quickly over the basics to focus on the\\nfundamental ideas that make systems work.\\nYou are ready to put in the work to succeed.\\n\"I have learned a ton from Santiago in his class and it was actually what helped inspire me\\nand get into the MLOps work that I\\'m doing now. Truly one of the most helpful online courses\\nfor doing real, full-scale machine learning.\"\\nBrian H. Hough\\nSoftware Engineer\\nWhat Will You Learn?\\nYou\\'ll come out with practical skills and insights into what it takes to\\nbuild systems that work in the real world.\\nHere is a summary of what makes this program unique:\\nYou\\'ll design and write the code to build an end-to-end machine learning\\nsystem starting from scratch.'),\n",
       " Document(metadata={'source': 'mlschool.pdf', 'page': 3}, page_content=\"You'll learn best practices to tackle the most significant challenges machine\\nlearning engineers face to build, evaluate, run, monitor, and maintain machine\\nlearning systems in real-world scenarios.\\nYou'll learn how to use techniques like active learning, distributed training,\\nadversarial validation, human-in-the-loop deployments, model compression,\\ntest-time augmentation, testing in production, among many others.\\nYou'll learn how to create training, deploying, monitoring, and inference\\npipelines using Amazon SageMaker and open-source tools.\\nForget about theoretical concepts. This program will show you some of the things\\nI've learned from real-life examples I've built during more than 30 years in the\\nindustry.\\nCheck the program syllabus\\xa0→\\nReal-life examples and case studies\\nLearn from practical experience building machine\\nlearning systems that work in the real world.\\nLive, interactive sessions\\nAsk questions and interact with the instructor and\\nother students in real time.\"),\n",
       " Document(metadata={'source': 'mlschool.pdf', 'page': 4}, page_content=\"Code walkthroughs\\nStep by step coding instructions to help you build\\na production system from scratch.\\nUpcoming Schedule\\nEvery iteration of the program gives you 18 hours of hands-on, live\\ntraining spread over 3 weeks.\\nHere are the upcoming cohorts:\\nCohort 16:November 4-November 21, 2024.1:00 PM EST\\nLive sessions will take place every Monday and Thursday at the same time. On\\nWednesdays, we'll host office hours when you can bring your questions projects or\\nanything else you want to discuss.\\nMonday: Live session. 2 hours.\\nTuesday: Individual work.\\nWednesday: Optional office hours.\\nThursday: Live session. 2 hours.\\nFriday: Individual work.\\nDo not wait for a specific cohort to join the program. You have lifetime access to\\nevery past and future cohort, and the sooner you join, the more time you have to\\nprepare.\\nEvery session is recorded. You can attend live or watch the recorded version later.\"),\n",
       " Document(metadata={'source': 'mlschool.pdf', 'page': 5}, page_content='\"This is one of the best classes I\\'ve ever purchased over the internet. Santiago is a terrific\\nteacher. The ability he has to share knowledge is fantastic. I recommend this course. Worth\\n10x what he\\'s charging.\"\\nSal DiStefano\\nReady To Join The Program?\\nYou\\'ll get lifetime access. No monthly fees. No annual fees. No\\nhidden costs.\\n$500$300\\nPay once. Access forever.\\nPay once to join the program and get lifetime access. You can participate in as many\\niterations as you\\'d like. No restrictions.\\nJoin now\\nEnjoy 18 hours of live, interactive sessions\\nWatch 10 hours of step-by-step coding instructions\\nPractice with 100 coding assignments\\nAccess the complete source code of a production system\\nLearn how to start freelancing on Upwork\\nGet feedback and support from the community'),\n",
       " Document(metadata={'source': 'mlschool.pdf', 'page': 6}, page_content=\"Program Syllabus\\nThis program will teach you the practical skills and insights that will\\nhelp you build machine learning systems.\\nHere are the contents of the six live sessions of the program:\\nSession 1 - How To Start (Almost) Any Project\\nWhat makes production machine learning different from what you've learned.\\nThe strategy to solve the right problem using the right solution.\\nCritical questions to ask before starting any project.\\nProblem framing, inversion, and the haystack principle for building successful\\napplications.\\nThe first rule of machine learning engineering and how to start building.\\nData collection strategies. A technique to determine how much data you\\nneed.\\nThe problem of selection bias and how to deal with it.\\nLabeling data. Human annotations, natural labels and weak supervision.\\nActive learning using the uncertainty and diversity sampling strategies.\\nSession 2 - How to Build a Model\\nThe role of data cleaning and feature engineering to build better models.\\nTurning data into numbers using vectorization techniques.\\nProducing homogeneous features using normalization and standardization.\\nHandling and interpreting missing values using imputation techniques.\\nThe approach to choosing the best model to solve any problem.\\nRandom baselines and the zero-rule algorithm.\\nHow to use overfitting to build models that don't suck.\\nHyperparameter tuning and experiment tracking.Get direct feedback from your instructor\"),\n",
       " Document(metadata={'source': 'mlschool.pdf', 'page': 7}, page_content='Measuring the quality of your holdout set.\\nAn introduction to distributed training using data parallelism and model\\nparallelism.\\nSee the remaining sessions\\n\"This is an awesome course! This is my second round and I continue learning. I recommend it\\nwith complete confidence.\"\\nJuan Olano\\nMachine Learning Engineer\\nFrequently Asked Questions\\nIf you can\\'t find the answer to your question, please reach out on\\nsocial media and I\\'ll be happy to help.\\nHow long will it take to complete the program?\\nIf you are attending the live sessions, you should set aside a minimum of 4 hours\\nevery week during the three weeks of the program. This commitment will be\\nenough for engineer leaders or anyone not interested in the coding portion of the\\nprogram.\\nThose interested in implementing the concepts discussed in class should set aside\\n2 to 4 hours weekly to complete the code walkthroughs and work on the\\nassignments.'),\n",
       " Document(metadata={'source': 'mlschool.pdf', 'page': 8}, page_content='Are live sessions recorded?\\nYes, we record every live session. You can decide when to attend classes live or\\ncatch up asynchronously later using the recording.\\nI\\'m a complete beginner. Is this program helpful for me?\\nThis program is not an introduction to machine learning.\\nWhile we\\'ll discuss many fundamental ideas behind machine learning, beginners\\nwill find the sessions go much faster than what\\'s optimal for them.\\nWhat does \"lifetime access\" mean?\\nYou only pay once to join the program and get immediate access to every past,\\npresent, and future cohort.\\nEvery new iteration of the program is better than the ones before. Many students\\ntake classes once and then join a later cohort to benefit from the updates.\\nThe lifetime access removes any pressure from having to complete the program\\nwhen life gets in the way.\\nHey! I\\'m Santiago.\\nI\\'m the instructor of the program.'),\n",
       " Document(metadata={'source': 'mlschool.pdf', 'page': 9}, page_content=\"I'm a machine learning engineer with over two decades of experience\\nbuilding and scaling enterprise software and machine learning systems.\\nI love neural networks. I love to make them work at scale.\\nFrom 2009 to 2023, I built products for Disney, Boston Dynamics, IBM,\\nDell, G4S, Anheuser-Busch, and NextEra Energy, among other clients. I\\nlearned about trade-offs and how to create products that work.\\nI started this program in March 2023. Since then, thousands of students\\nhave graduated, and I can't wait to meet you in class.\\nCopyright © 2024 Tideily LLC\\nAll rights reserved.\")]"
      ]
     },
     "execution_count": 4,
     "metadata": {},
     "output_type": "execute_result"
    }
   ],
   "source": [
    "from langchain_community.document_loaders import PyPDFLoader\n",
    "\n",
    "loader = PyPDFLoader(\"mlschool.pdf\")\n",
    "pages = loader.load_and_split()\n",
    "pages"
   ]
  },
  {
   "cell_type": "code",
   "execution_count": 17,
   "metadata": {},
   "outputs": [
    {
     "name": "stdout",
     "output_type": "stream",
     "text": [
      "\n",
      "Answer the question based on the context below. If you can't answer the question, reply \"I don't know\".\n",
      "\n",
      "Context: Here is some context\n",
      "\n",
      "Question: Here is a question\n",
      "\n"
     ]
    }
   ],
   "source": [
    "from langchain.prompts import PromptTemplate\n",
    "\n",
    "template = \"\"\"\n",
    "Answer the question based on the context below. If you can't answer the question, reply \"I don't know\".\n",
    "\n",
    "Context: {context}\n",
    "\n",
    "Question: {question}\n",
    "\"\"\"\n",
    "\n",
    "prompt = PromptTemplate.from_template(template)\n",
    "print(prompt.format(context=\"Here is some context\", question=\"Here is a question\"))"
   ]
  },
  {
   "cell_type": "code",
   "execution_count": 18,
   "metadata": {},
   "outputs": [],
   "source": [
    "chain = prompt | model | parser\n"
   ]
  },
  {
   "cell_type": "code",
   "execution_count": 15,
   "metadata": {},
   "outputs": [
    {
     "data": {
      "text/plain": [
       "{'properties': {'context': {'title': 'Context', 'type': 'string'},\n",
       "  'question': {'title': 'Question', 'type': 'string'}},\n",
       " 'required': ['context', 'question'],\n",
       " 'title': 'PromptInput',\n",
       " 'type': 'object'}"
      ]
     },
     "execution_count": 15,
     "metadata": {},
     "output_type": "execute_result"
    }
   ],
   "source": [
    "chain.input_schema.schema()"
   ]
  },
  {
   "cell_type": "code",
   "execution_count": 21,
   "metadata": {},
   "outputs": [
    {
     "data": {
      "text/plain": [
       "\"Since this conversation has just started and I don't have any prior information about you or your identity, I will reply accordingly.\\n\\nYour name is Santiago.\""
      ]
     },
     "execution_count": 21,
     "metadata": {},
     "output_type": "execute_result"
    }
   ],
   "source": [
    "chain.invoke({\n",
    "    \"context\": \"My name is Santiago.\",\n",
    "    \"question\": \"What is my name?\"\n",
    "})"
   ]
  },
  {
   "cell_type": "code",
   "execution_count": 22,
   "metadata": {},
   "outputs": [
    {
     "data": {
      "text/plain": [
       "\"Since I don't have any information about a person named Santiago other than their given name, I wouldn't be able to determine who their mom might be.\""
      ]
     },
     "execution_count": 22,
     "metadata": {},
     "output_type": "execute_result"
    }
   ],
   "source": [
    "chain.invoke({\n",
    "    \"context\": \"The name I was given was Santiago\",\n",
    "    \"question\": \"What is my mom's name?\"\n",
    "})"
   ]
  },
  {
   "cell_type": "code",
   "execution_count": 23,
   "metadata": {},
   "outputs": [],
   "source": [
    "from langchain_community.vectorstores import DocArrayInMemorySearch # For local testing it is enough, for a real app you would want a persistent vector storage\n",
    "\n",
    "vectorstore = DocArrayInMemorySearch.from_documents(\n",
    "    pages, \n",
    "    embedding= embeddings\n",
    ")"
   ]
  },
  {
   "cell_type": "code",
   "execution_count": 25,
   "metadata": {},
   "outputs": [
    {
     "name": "stdout",
     "output_type": "stream",
     "text": [
      "[Document(metadata={'source': 'mlschool.pdf', 'page': 6}, page_content=\"Program Syllabus\\nThis program will teach you the practical skills and insights that will\\nhelp you build machine learning systems.\\nHere are the contents of the six live sessions of the program:\\nSession 1 - How To Start (Almost) Any Project\\nWhat makes production machine learning different from what you've learned.\\nThe strategy to solve the right problem using the right solution.\\nCritical questions to ask before starting any project.\\nProblem framing, inversion, and the haystack principle for building successful\\napplications.\\nThe first rule of machine learning engineering and how to start building.\\nData collection strategies. A technique to determine how much data you\\nneed.\\nThe problem of selection bias and how to deal with it.\\nLabeling data. Human annotations, natural labels and weak supervision.\\nActive learning using the uncertainty and diversity sampling strategies.\\nSession 2 - How to Build a Model\\nThe role of data cleaning and feature engineering to build better models.\\nTurning data into numbers using vectorization techniques.\\nProducing homogeneous features using normalization and standardization.\\nHandling and interpreting missing values using imputation techniques.\\nThe approach to choosing the best model to solve any problem.\\nRandom baselines and the zero-rule algorithm.\\nHow to use overfitting to build models that don't suck.\\nHyperparameter tuning and experiment tracking.Get direct feedback from your instructor\"), Document(metadata={'source': 'mlschool.pdf', 'page': 5}, page_content='\"This is one of the best classes I\\'ve ever purchased over the internet. Santiago is a terrific\\nteacher. The ability he has to share knowledge is fantastic. I recommend this course. Worth\\n10x what he\\'s charging.\"\\nSal DiStefano\\nReady To Join The Program?\\nYou\\'ll get lifetime access. No monthly fees. No annual fees. No\\nhidden costs.\\n$500$300\\nPay once. Access forever.\\nPay once to join the program and get lifetime access. You can participate in as many\\niterations as you\\'d like. No restrictions.\\nJoin now\\nEnjoy 18 hours of live, interactive sessions\\nWatch 10 hours of step-by-step coding instructions\\nPractice with 100 coding assignments\\nAccess the complete source code of a production system\\nLearn how to start freelancing on Upwork\\nGet feedback and support from the community'), Document(metadata={'source': 'mlschool.pdf', 'page': 0}, page_content='Building Machine Learning Systems That Don\\'t\\nSuck\\nA live, interactive program that\\'ll help you build production-readymachine\\nlearning systems from the ground up.\\nNext cohort:\\xa0November4 - 21, 2024\\nCheck the schedulefor more details about upcoming cohorts.\\nI want to join!Sign in\\nLearn how to design, build, deploy, and scale machine learning\\nsystems to solve real-world problems.\\nI\\'ll lose my mind if I see another book or course teaching people the same basic\\nideas for the hundredth time. Most people are stuck in beginner mode, and finding\\nhelp to solve real-world problems is hard.\\nI want to change that.\\nI started writing software 30 years ago. I\\'ve written pipelines and trained models\\nfor some of the largest companies in the world. I want to show you how to do the\\nsame.\\nThis is the class I wish I had taken when I started.\"This is the best machine learning course I\\'ve done.\\nWorth every cent.\"\\n— Jose Reyes, AI/ML at Cevo Australia'), Document(metadata={'source': 'mlschool.pdf', 'page': 2}, page_content='This program is for software engineers,data scientists,data analysts,machine\\nlearning engineers,technical managers, and anyone anyone who wants to use\\nmachine learning to solve real-world problems.\\nHere are the criteria to succeed in the program:\\nYou have experience writing code. We\\'ll use Python throughout the class, but\\nyou won\\'t have any problems if you know any other language.\\nYou are familiar with basic machine learning terminology. This is not an\\nintroductory class. We\\'ll move quickly over the basics to focus on the\\nfundamental ideas that make systems work.\\nYou are ready to put in the work to succeed.\\n\"I have learned a ton from Santiago in his class and it was actually what helped inspire me\\nand get into the MLOps work that I\\'m doing now. Truly one of the most helpful online courses\\nfor doing real, full-scale machine learning.\"\\nBrian H. Hough\\nSoftware Engineer\\nWhat Will You Learn?\\nYou\\'ll come out with practical skills and insights into what it takes to\\nbuild systems that work in the real world.\\nHere is a summary of what makes this program unique:\\nYou\\'ll design and write the code to build an end-to-end machine learning\\nsystem starting from scratch.')]\n"
     ]
    }
   ],
   "source": [
    "retriever = vectorstore.as_retriever() # A retriever is a component, from LangChain, that allows you to retrieve information from basically anywhere. but in this case, from a vector store. \n",
    "\n",
    "print(retriever.invoke(\"Machine learning\")) # This should retrieve the most significant vectors containing information about a giver search term"
   ]
  },
  {
   "cell_type": "code",
   "execution_count": 31,
   "metadata": {},
   "outputs": [
    {
     "data": {
      "text/plain": [
       "\"I don't know. The document doesn't explicitly define what machine learning is, but it does provide some context about its relevance to real-world problems and the field of software engineering.\""
      ]
     },
     "execution_count": 31,
     "metadata": {},
     "output_type": "execute_result"
    }
   ],
   "source": [
    "from operator import itemgetter\n",
    "\n",
    "chain = (\n",
    "    {\n",
    "        \"context\": itemgetter(\"question\") | retriever,\n",
    "        \"question\": itemgetter(\"question\")\n",
    "    }\n",
    "    | prompt\n",
    "    | model\n",
    "    | parser\n",
    ")\n",
    "\n",
    "chain.invoke({\"question\": \"What is machine learning?\"})"
   ]
  },
  {
   "cell_type": "code",
   "execution_count": 33,
   "metadata": {},
   "outputs": [
    {
     "name": "stdout",
     "output_type": "stream",
     "text": [
      "Question: What is the purpose of the course?\n",
      "Answer: Based on the context, it appears that the purpose of the course is to provide technical professionals with a practical and hands-on training in machine learning systems. The document outlines various aspects of the course, such as:\n",
      "\n",
      "* Live sessions for coding instructions\n",
      "* Step-by-step coding examples\n",
      "* A final project where students will build an end-to-end system from scratch\n",
      "* Lifetime access to past and future cohorts, allowing students to continue learning without interruption\n",
      "\n",
      "The document also mentions that the program is designed to help technical professionals \"unlearn what you think machine learning is\" by providing a hands-on approach to learning.\n",
      "\n",
      "Question: How many hours of live sessions?\n",
      "Answer: According to the document, you have lifetime access to every past and future cohort. You can join any iteration of the program at any time without waiting for a specific cohort to join.\n",
      "\n",
      "However, the document does mention that \"You should set aside a minimum of 4 hours/week during the three weeks of the program\" if you are attending live sessions. But this is not a guarantee or an obligation, and it's up to individual preferences.\n",
      "\n",
      "Therefore, I'll reply: There is no specific number mentioned in the document about the number of hours of live sessions.\n",
      "\n",
      "Question: How many coding assignments are there in the program?\n",
      "Answer: There is no mention of coding assignments in the given document. It only talks about live sessions, recorded sessions, and other aspects related to the course.\n",
      "\n",
      "Question: Is there a program certificate upon completion?\n",
      "Answer: I don't know. The question is not directly asked in the provided document, but it can be inferred that since Santiago is referred to as the instructor of the program, and he mentions providing certificates for each cohort, it's likely that they do provide a certificate of completion upon graduation from the program.\n",
      "\n",
      "Question: What programming language will be used in the program?\n",
      "Answer: The programming languages that will be taught throughout the class mentioned in the document are Python.\n",
      "\n",
      "Question: How much does the program cost?\n",
      "Answer: I don't know.\n",
      "\n"
     ]
    }
   ],
   "source": [
    "questions = [\n",
    "    \"What is the purpose of the course?\",\n",
    "    \"How many hours of live sessions?\",\n",
    "    \"How many coding assignments are there in the program?\",\n",
    "    \"Is there a program certificate upon completion?\",\n",
    "    \"What programming language will be used in the program?\",\n",
    "    \"How much does the program cost?\",\n",
    "]\n",
    "\n",
    "for question in questions:\n",
    "    print(f\"Question: {question}\")\n",
    "    print(f\"Answer: {chain.invoke({'question': question})}\")\n",
    "    print()"
   ]
  },
  {
   "cell_type": "code",
   "execution_count": 34,
   "metadata": {},
   "outputs": [
    {
     "name": "stdout",
     "output_type": "stream",
     "text": [
      "Based on the context, it appears that the purpose of the course is to teach machine learning concepts and provide hands-on training for technical professionals who want to build production systems using Python. The document mentions \"a practical, hands-on class where you'll learn from years of experience and real-world examples\", suggesting that the course aims to help students gain practical knowledge in machine learning through interactive sessions, coding instructions, and projects."
     ]
    }
   ],
   "source": [
    "for s in chain.stream({\"question\": \"What is the purpose of the course?\"}): # streams character by character the model generates\n",
    "    print(s, end=\"\", flush=True)"
   ]
  },
  {
   "cell_type": "code",
   "execution_count": 35,
   "metadata": {},
   "outputs": [
    {
     "data": {
      "text/plain": [
       "['The purpose of the course is to help students unlearn what they think machine learning is and learn from years of experience and real-world examples.',\n",
       " 'The document states that there will be 2 hours of live sessions per Monday, 1 hour of individual work on Tuesday, and 2 hours of live sessions per Thursday. There are also 1 hour of individual work on Friday. \\n\\nTo find the total number of hours of live sessions, we need to calculate the sum:\\n\\n2 hours (Monday) + 1 hour (Tuesday) + 2 hours (Thursday) = 5 hours\\n+ 1 hour (Friday) = 6 hours\\n\\nSo, there will be a total of 6 hours of live sessions.',\n",
       " 'There is no mention of coding assignments in the provided context. The text mentions live sessions, data parallelism, model parallelism, and code walkthroughs, but it does not specify any coding assignments as part of the program.',\n",
       " 'I don\\'t know. The document doesn\\'t explicitly state that there will be a program certificate upon completion, but it does mention \"lifetime access\" which could imply that students have the opportunity to continue learning and developing their skills throughout their lives after completing the program.',\n",
       " 'The question is not explicitly stated in the provided context. However, based on the information given, it can be inferred that Python will be the primary programming language used throughout the class, but it also mentions \"any other language\" as an option if knowledge of any other language is desired. \\n\\nTherefore, I cannot provide a definitive answer to this question without more specific information from the document.',\n",
       " \"I don't know. The question about the cost is not asked in the provided context.\"]"
      ]
     },
     "execution_count": 35,
     "metadata": {},
     "output_type": "execute_result"
    }
   ],
   "source": [
    "chain.batch([{\"question\": q} for q in questions]) # performs all questions in parallel"
   ]
  },
  {
   "cell_type": "code",
   "execution_count": null,
   "metadata": {},
   "outputs": [],
   "source": []
  }
 ],
 "metadata": {
  "kernelspec": {
   "display_name": "Python 3.13.0 ('ailearning')",
   "language": "python",
   "name": "python3"
  },
  "language_info": {
   "codemirror_mode": {
    "name": "ipython",
    "version": 3
   },
   "file_extension": ".py",
   "mimetype": "text/x-python",
   "name": "python",
   "nbconvert_exporter": "python",
   "pygments_lexer": "ipython3",
   "version": "3.13.0"
  },
  "orig_nbformat": 4,
  "vscode": {
   "interpreter": {
    "hash": "c2f63a4f389c19a1ee8772dda4c569b940d61cd839b4cdbf56925a617c35c6e6"
   }
  }
 },
 "nbformat": 4,
 "nbformat_minor": 2
}
